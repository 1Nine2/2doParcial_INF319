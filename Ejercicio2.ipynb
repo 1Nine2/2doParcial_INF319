{
  "nbformat": 4,
  "nbformat_minor": 0,
  "metadata": {
    "colab": {
      "provenance": [],
      "authorship_tag": "ABX9TyPLRCTxwvLfGaq4LuvKI9my",
      "include_colab_link": true
    },
    "kernelspec": {
      "name": "python3",
      "display_name": "Python 3"
    },
    "language_info": {
      "name": "python"
    }
  },
  "cells": [
    {
      "cell_type": "markdown",
      "metadata": {
        "id": "view-in-github",
        "colab_type": "text"
      },
      "source": [
        "<a href=\"https://colab.research.google.com/github/1Nine2/2doParcial_INF319/blob/main/Ejercicio2.ipynb\" target=\"_parent\"><img src=\"https://colab.research.google.com/assets/colab-badge.svg\" alt=\"Open In Colab\"/></a>"
      ]
    },
    {
      "cell_type": "code",
      "execution_count": 1,
      "metadata": {
        "id": "gXipaYh4rgRF"
      },
      "outputs": [],
      "source": [
        "def fibonacci(count):\n",
        "    fib_list = [0, 1]\n",
        "  \n",
        "    any(map(lambda _: fib_list.append(sum(fib_list[-2:])),\n",
        "                                         range(2, count)))\n",
        "  \n",
        "    return fib_list[:count]"
      ]
    },
    {
      "cell_type": "code",
      "source": [
        "print(fibonacci(10))"
      ],
      "metadata": {
        "colab": {
          "base_uri": "https://localhost:8080/"
        },
        "id": "xcc3nW86sHVe",
        "outputId": "ef87f3db-dddf-48d0-c142-6d7e7bfaafc0"
      },
      "execution_count": 2,
      "outputs": [
        {
          "output_type": "stream",
          "name": "stdout",
          "text": [
            "[0, 1, 1, 2, 3, 5, 8, 13, 21, 34]\n"
          ]
        }
      ]
    },
    {
      "cell_type": "code",
      "source": [
        "from functools import reduce\n",
        "  \n",
        "fib = lambda n: reduce(lambda x, _: x+[x[-1]+x[-2]],\n",
        "                                 range(n-2), [0, 1])"
      ],
      "metadata": {
        "id": "krl_ZAdmsKOS"
      },
      "execution_count": 3,
      "outputs": []
    },
    {
      "cell_type": "code",
      "source": [
        "print(fib(5))"
      ],
      "metadata": {
        "colab": {
          "base_uri": "https://localhost:8080/"
        },
        "id": "QZjdi8FXsOFV",
        "outputId": "8e7fbe13-861e-42c9-df6d-cc6708bd855e"
      },
      "execution_count": 4,
      "outputs": [
        {
          "output_type": "stream",
          "name": "stdout",
          "text": [
            "[0, 1, 1, 2, 3]\n"
          ]
        }
      ]
    },
    {
      "cell_type": "markdown",
      "source": [
        "**Recursivo**"
      ],
      "metadata": {
        "id": "qysvsvAIsncE"
      }
    },
    {
      "cell_type": "code",
      "source": [
        "g = lambda f: f if f < 2 else g(f-1)+g(f-2)"
      ],
      "metadata": {
        "id": "tp6KNwWbsrpO"
      },
      "execution_count": 5,
      "outputs": []
    },
    {
      "cell_type": "code",
      "source": [
        "[g(n) for n in range(5)]"
      ],
      "metadata": {
        "colab": {
          "base_uri": "https://localhost:8080/"
        },
        "id": "12FRUOHosyPv",
        "outputId": "2b2b8a69-d686-4336-f2dc-588b06f26b4b"
      },
      "execution_count": 7,
      "outputs": [
        {
          "output_type": "execute_result",
          "data": {
            "text/plain": [
              "[0, 1, 1, 2, 3]"
            ]
          },
          "metadata": {},
          "execution_count": 7
        }
      ]
    }
  ]
}